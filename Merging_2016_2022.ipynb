{
  "nbformat": 4,
  "nbformat_minor": 0,
  "metadata": {
    "colab": {
      "provenance": [],
      "authorship_tag": "ABX9TyOajiqOrJbj0NGVgiNZcA6S",
      "include_colab_link": true
    },
    "kernelspec": {
      "name": "python3",
      "display_name": "Python 3"
    },
    "language_info": {
      "name": "python"
    }
  },
  "cells": [
    {
      "cell_type": "markdown",
      "metadata": {
        "id": "view-in-github",
        "colab_type": "text"
      },
      "source": [
        "<a href=\"https://colab.research.google.com/github/Diwakarmogarala/Capstone/blob/main/Merging_2016_2022.ipynb\" target=\"_parent\"><img src=\"https://colab.research.google.com/assets/colab-badge.svg\" alt=\"Open In Colab\"/></a>"
      ]
    },
    {
      "cell_type": "code",
      "execution_count": 3,
      "metadata": {
        "colab": {
          "base_uri": "https://localhost:8080/"
        },
        "id": "FRb_Fuvqx88d",
        "outputId": "08519804-7a35-481d-b94a-2c4104aefa28"
      },
      "outputs": [
        {
          "output_type": "stream",
          "name": "stdout",
          "text": [
            "Mounted at /content/drive\n"
          ]
        }
      ],
      "source": [
        "# https://drive.google.com/drive/u/0/folders/11zhBUqnUT6J4IVMLpBcrgz8saXAGJ7Hi\n",
        "\n",
        "from google.colab import drive\n",
        "drive.mount('/content/drive')"
      ]
    },
    {
      "cell_type": "code",
      "source": [
        "import pandas as pd\n",
        "import numpy as np\n",
        "import matplotlib.pyplot as plt\n",
        "import seaborn as sns"
      ],
      "metadata": {
        "id": "XC7FKX_3yFm2"
      },
      "execution_count": 4,
      "outputs": []
    },
    {
      "cell_type": "code",
      "source": [
        "df1 = pd.read_csv(\"/content/drive/MyDrive/Capstone Project/Hospital_Inpatient_Discharges__SPARCS_De-Identified___2016_20250531.csv\")\n",
        "df2 = pd.read_csv(\"/content/drive/MyDrive/Capstone Project/Hospital_Inpatient_Discharges__SPARCS_De-Identified___2017_20250615.csv\")\n",
        "df3 = pd.read_csv(\"/content/drive/MyDrive/Capstone Project/Hospital_Inpatient_Discharges__SPARCS_De-Identified___2018_20250615.csv\")\n",
        "df4 = pd.read_csv(\"/content/drive/MyDrive/Capstone Project/Hospital_Inpatient_Discharges__SPARCS_De-Identified___2019_20250615.csv\")\n",
        "df5 = pd.read_csv(\"/content/drive/MyDrive/Capstone Project/Hospital_Inpatient_Discharges__SPARCS_De-Identified___2020_20250615.csv\")\n",
        "df6 = pd.read_csv(\"/content/drive/MyDrive/Capstone Project/Hospital_Inpatient_Discharges__SPARCS_De-Identified___2021_20250615.csv\")\n",
        "df7 = pd.read_csv(\"/content/drive/MyDrive/Capstone Project/Hospital_Inpatient_Discharges__SPARCS_De-Identified___2022_20250615.csv\")"
      ],
      "metadata": {
        "colab": {
          "base_uri": "https://localhost:8080/"
        },
        "id": "nX9M-UXRzNVU",
        "outputId": "e8905d20-c64f-4180-8f90-1960a9a19b43"
      },
      "execution_count": 7,
      "outputs": [
        {
          "output_type": "stream",
          "name": "stderr",
          "text": [
            "<ipython-input-7-4093890249>:1: DtypeWarning: Columns (10) have mixed types. Specify dtype option on import or set low_memory=False.\n",
            "  df1 = pd.read_csv(\"/content/drive/MyDrive/Capstone Project/Hospital_Inpatient_Discharges__SPARCS_De-Identified___2016_20250531.csv\")\n",
            "<ipython-input-7-4093890249>:2: DtypeWarning: Columns (29) have mixed types. Specify dtype option on import or set low_memory=False.\n",
            "  df2 = pd.read_csv(\"/content/drive/MyDrive/Capstone Project/Hospital_Inpatient_Discharges__SPARCS_De-Identified___2017_20250615.csv\")\n",
            "<ipython-input-7-4093890249>:3: DtypeWarning: Columns (29) have mixed types. Specify dtype option on import or set low_memory=False.\n",
            "  df3 = pd.read_csv(\"/content/drive/MyDrive/Capstone Project/Hospital_Inpatient_Discharges__SPARCS_De-Identified___2018_20250615.csv\")\n",
            "<ipython-input-7-4093890249>:4: DtypeWarning: Columns (10,29) have mixed types. Specify dtype option on import or set low_memory=False.\n",
            "  df4 = pd.read_csv(\"/content/drive/MyDrive/Capstone Project/Hospital_Inpatient_Discharges__SPARCS_De-Identified___2019_20250615.csv\")\n",
            "<ipython-input-7-4093890249>:5: DtypeWarning: Columns (29) have mixed types. Specify dtype option on import or set low_memory=False.\n",
            "  df5 = pd.read_csv(\"/content/drive/MyDrive/Capstone Project/Hospital_Inpatient_Discharges__SPARCS_De-Identified___2020_20250615.csv\")\n",
            "<ipython-input-7-4093890249>:6: DtypeWarning: Columns (29) have mixed types. Specify dtype option on import or set low_memory=False.\n",
            "  df6 = pd.read_csv(\"/content/drive/MyDrive/Capstone Project/Hospital_Inpatient_Discharges__SPARCS_De-Identified___2021_20250615.csv\")\n",
            "<ipython-input-7-4093890249>:7: DtypeWarning: Columns (29) have mixed types. Specify dtype option on import or set low_memory=False.\n",
            "  df7 = pd.read_csv(\"/content/drive/MyDrive/Capstone Project/Hospital_Inpatient_Discharges__SPARCS_De-Identified___2022_20250615.csv\")\n"
          ]
        }
      ]
    },
    {
      "cell_type": "code",
      "source": [
        "df = pd.concat([df1, df2, df3, df4, df5, df6, df7], axis=0)"
      ],
      "metadata": {
        "id": "Kxer7ALYzCDl"
      },
      "execution_count": 8,
      "outputs": []
    },
    {
      "cell_type": "code",
      "source": [
        "df.to_csv(\"Hospital_Inpatient_Discharges__SPARCS_2016-2022.csv\", index=False)"
      ],
      "metadata": {
        "id": "pilbxzFgN_8E"
      },
      "execution_count": 9,
      "outputs": []
    },
    {
      "cell_type": "code",
      "source": [
        "df.shape"
      ],
      "metadata": {
        "colab": {
          "base_uri": "https://localhost:8080/"
        },
        "id": "ZZg4jYD-OSDk",
        "outputId": "b008845f-2be9-4d06-f816-dd99115e0a7b"
      },
      "execution_count": 10,
      "outputs": [
        {
          "output_type": "execute_result",
          "data": {
            "text/plain": [
              "(15670368, 40)"
            ]
          },
          "metadata": {},
          "execution_count": 10
        }
      ]
    },
    {
      "cell_type": "code",
      "source": [],
      "metadata": {
        "id": "ycrkIfaPRUPj"
      },
      "execution_count": null,
      "outputs": []
    }
  ]
}