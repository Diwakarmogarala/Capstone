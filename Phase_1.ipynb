{
  "nbformat": 4,
  "nbformat_minor": 0,
  "metadata": {
    "colab": {
      "provenance": [],
      "machine_shape": "hm",
      "mount_file_id": "1C7mHNX1d1fh8HjzNtUdSjhrQy1mztX80",
      "authorship_tag": "ABX9TyOpe7SyP/6ds4Df7/5YRLFG",
      "include_colab_link": true
    },
    "kernelspec": {
      "name": "python3",
      "display_name": "Python 3"
    },
    "language_info": {
      "name": "python"
    }
  },
  "cells": [
    {
      "cell_type": "markdown",
      "metadata": {
        "id": "view-in-github",
        "colab_type": "text"
      },
      "source": [
        "<a href=\"https://colab.research.google.com/github/Diwakarmogarala/Capstone/blob/main/Phase_1.ipynb\" target=\"_parent\"><img src=\"https://colab.research.google.com/assets/colab-badge.svg\" alt=\"Open In Colab\"/></a>"
      ]
    },
    {
      "cell_type": "code",
      "execution_count": 31,
      "metadata": {
        "colab": {
          "base_uri": "https://localhost:8080/"
        },
        "id": "_mZzkOYgNiaP",
        "outputId": "d30da004-5e15-410d-bbef-119519cf017f"
      },
      "outputs": [
        {
          "output_type": "stream",
          "name": "stdout",
          "text": [
            "Drive already mounted at /content/drive; to attempt to forcibly remount, call drive.mount(\"/content/drive\", force_remount=True).\n"
          ]
        }
      ],
      "source": [
        "# https://drive.google.com/drive/u/0/folders/11zhBUqnUT6J4IVMLpBcrgz8saXAGJ7Hi\n",
        "\n",
        "from google.colab import drive\n",
        "drive.mount('/content/drive')"
      ]
    },
    {
      "cell_type": "code",
      "source": [
        "import polars as pl\n",
        "import pandas as pd\n",
        "import numpy as np\n",
        "import matplotlib.pyplot as plt\n",
        "import seaborn as sns"
      ],
      "metadata": {
        "id": "VGFGwMzENqao"
      },
      "execution_count": 32,
      "outputs": []
    },
    {
      "cell_type": "code",
      "source": [
        "data = pl.read_csv(\"/content/drive/MyDrive/Capstone Project/merged_data_with_prices.csv\")"
      ],
      "metadata": {
        "id": "474Lqlh6N-sX"
      },
      "execution_count": 33,
      "outputs": []
    },
    {
      "cell_type": "code",
      "source": [
        "import polars as pl\n",
        "from sklearn.preprocessing import LabelEncoder\n",
        "\n",
        "le = LabelEncoder()\n",
        "\n",
        "\n",
        "encoded = le.fit_transform(data[\"Age Group\"].to_numpy())\n",
        "data = data.with_columns(\n",
        "    pl.Series(\"Age_Group\", encoded, dtype=pl.Int32)\n",
        ")\n"
      ],
      "metadata": {
        "id": "Gk5U2YJLvo7M"
      },
      "execution_count": 34,
      "outputs": []
    },
    {
      "cell_type": "code",
      "source": [
        "data.columns"
      ],
      "metadata": {
        "colab": {
          "base_uri": "https://localhost:8080/"
        },
        "id": "Lbmui7mSvS7N",
        "outputId": "0b3c2634-83bc-47d0-d082-6c8721a142ca"
      },
      "execution_count": 35,
      "outputs": [
        {
          "output_type": "execute_result",
          "data": {
            "text/plain": [
              "['Hospital County',\n",
              " 'Age Group',\n",
              " 'Gender',\n",
              " 'Race',\n",
              " 'Ethnicity',\n",
              " 'Type of Admission',\n",
              " 'Patient Disposition',\n",
              " 'APR DRG Description',\n",
              " 'APR MDC Description',\n",
              " 'APR Severity of Illness Description',\n",
              " 'APR Risk of Mortality',\n",
              " 'APR Medical Surgical Description',\n",
              " 'Payment Typology 1',\n",
              " 'Payment Typology 2',\n",
              " 'Payment Typology 3',\n",
              " 'Length of Stay',\n",
              " 'Age_Group',\n",
              " 'Total Charges',\n",
              " 'Total Costs',\n",
              " 'Age',\n",
              " 'Year']"
            ]
          },
          "metadata": {},
          "execution_count": 35
        }
      ]
    },
    {
      "cell_type": "code",
      "source": [
        "data[\"Age_Group\"].value_counts()"
      ],
      "metadata": {
        "colab": {
          "base_uri": "https://localhost:8080/",
          "height": 255
        },
        "id": "6fc-FPwot4jV",
        "outputId": "6e5f75d2-8f78-42be-ea15-121c8ba506a0"
      },
      "execution_count": 36,
      "outputs": [
        {
          "output_type": "execute_result",
          "data": {
            "text/plain": [
              "shape: (5, 2)\n",
              "┌───────────┬─────────┐\n",
              "│ Age_Group ┆ count   │\n",
              "│ ---       ┆ ---     │\n",
              "│ i32       ┆ u32     │\n",
              "╞═══════════╪═════════╡\n",
              "│ 4         ┆ 1255005 │\n",
              "│ 1         ┆ 459545  │\n",
              "│ 0         ┆ 655299  │\n",
              "│ 3         ┆ 1258941 │\n",
              "│ 2         ┆ 867384  │\n",
              "└───────────┴─────────┘"
            ],
            "text/html": [
              "<div><style>\n",
              ".dataframe > thead > tr,\n",
              ".dataframe > tbody > tr {\n",
              "  text-align: right;\n",
              "  white-space: pre-wrap;\n",
              "}\n",
              "</style>\n",
              "<small>shape: (5, 2)</small><table border=\"1\" class=\"dataframe\"><thead><tr><th>Age_Group</th><th>count</th></tr><tr><td>i32</td><td>u32</td></tr></thead><tbody><tr><td>4</td><td>1255005</td></tr><tr><td>1</td><td>459545</td></tr><tr><td>0</td><td>655299</td></tr><tr><td>3</td><td>1258941</td></tr><tr><td>2</td><td>867384</td></tr></tbody></table></div>"
            ]
          },
          "metadata": {},
          "execution_count": 36
        }
      ]
    },
    {
      "cell_type": "code",
      "source": [
        "data.head()"
      ],
      "metadata": {
        "colab": {
          "base_uri": "https://localhost:8080/",
          "height": 587
        },
        "id": "z3UD3Un9zoPD",
        "outputId": "91f4c1fe-a3f4-4bbb-899d-9a561cedbd02"
      },
      "execution_count": 37,
      "outputs": [
        {
          "output_type": "execute_result",
          "data": {
            "text/plain": [
              "shape: (5, 21)\n",
              "┌─────────────────┬─────────────┬────────┬───────┬───┬───────────────┬─────────────┬─────┬──────┐\n",
              "│ Hospital County ┆ Age Group   ┆ Gender ┆ Race  ┆ … ┆ Total Charges ┆ Total Costs ┆ Age ┆ Year │\n",
              "│ ---             ┆ ---         ┆ ---    ┆ ---   ┆   ┆ ---           ┆ ---         ┆ --- ┆ ---  │\n",
              "│ str             ┆ str         ┆ str    ┆ str   ┆   ┆ f64           ┆ f64         ┆ i64 ┆ i64  │\n",
              "╞═════════════════╪═════════════╪════════╪═══════╪═══╪═══════════════╪═════════════╪═════╪══════╡\n",
              "│ Allegany        ┆ 70 or Older ┆ F      ┆ White ┆ … ┆ 3913.23       ┆ 3466.83     ┆ 4   ┆ 2016 │\n",
              "│ Allegany        ┆ 30 to 49    ┆ M      ┆ White ┆ … ┆ 3597.1        ┆ 3746.8      ┆ 2   ┆ 2016 │\n",
              "│ Allegany        ┆ 50 to 69    ┆ F      ┆ White ┆ … ┆ 9149.22       ┆ 8322.1      ┆ 3   ┆ 2016 │\n",
              "│ Allegany        ┆ 70 or Older ┆ M      ┆ White ┆ … ┆ 5880.61       ┆ 5828.87     ┆ 4   ┆ 2016 │\n",
              "│ Allegany        ┆ 50 to 69    ┆ M      ┆ White ┆ … ┆ 7019.76       ┆ 6604.0      ┆ 3   ┆ 2016 │\n",
              "└─────────────────┴─────────────┴────────┴───────┴───┴───────────────┴─────────────┴─────┴──────┘"
            ],
            "text/html": [
              "<div><style>\n",
              ".dataframe > thead > tr,\n",
              ".dataframe > tbody > tr {\n",
              "  text-align: right;\n",
              "  white-space: pre-wrap;\n",
              "}\n",
              "</style>\n",
              "<small>shape: (5, 21)</small><table border=\"1\" class=\"dataframe\"><thead><tr><th>Hospital County</th><th>Age Group</th><th>Gender</th><th>Race</th><th>Ethnicity</th><th>Type of Admission</th><th>Patient Disposition</th><th>APR DRG Description</th><th>APR MDC Description</th><th>APR Severity of Illness Description</th><th>APR Risk of Mortality</th><th>APR Medical Surgical Description</th><th>Payment Typology 1</th><th>Payment Typology 2</th><th>Payment Typology 3</th><th>Length of Stay</th><th>Age_Group</th><th>Total Charges</th><th>Total Costs</th><th>Age</th><th>Year</th></tr><tr><td>str</td><td>str</td><td>str</td><td>str</td><td>str</td><td>str</td><td>str</td><td>str</td><td>str</td><td>str</td><td>str</td><td>str</td><td>str</td><td>str</td><td>str</td><td>i64</td><td>i32</td><td>f64</td><td>f64</td><td>i64</td><td>i64</td></tr></thead><tbody><tr><td>&quot;Allegany&quot;</td><td>&quot;70 or Older&quot;</td><td>&quot;F&quot;</td><td>&quot;White&quot;</td><td>&quot;Not Span/Hispanic&quot;</td><td>&quot;Urgent&quot;</td><td>&quot;Home or Self Care&quot;</td><td>&quot;other pneumonia&quot;</td><td>&quot;diseases and disorders of the …</td><td>&quot;Moderate&quot;</td><td>&quot;Moderate&quot;</td><td>&quot;Medical&quot;</td><td>&quot;Medicare&quot;</td><td>&quot;Private Health Insurance&quot;</td><td>&quot;None&quot;</td><td>3</td><td>4</td><td>3913.23</td><td>3466.83</td><td>4</td><td>2016</td></tr><tr><td>&quot;Allegany&quot;</td><td>&quot;30 to 49&quot;</td><td>&quot;M&quot;</td><td>&quot;White&quot;</td><td>&quot;Not Span/Hispanic&quot;</td><td>&quot;Elective&quot;</td><td>&quot;Home or Self Care&quot;</td><td>&quot;other pneumonia&quot;</td><td>&quot;diseases and disorders of the …</td><td>&quot;Minor&quot;</td><td>&quot;Minor&quot;</td><td>&quot;Medical&quot;</td><td>&quot;Self-Pay&quot;</td><td>&quot;None&quot;</td><td>&quot;None&quot;</td><td>2</td><td>2</td><td>3597.1</td><td>3746.8</td><td>2</td><td>2016</td></tr><tr><td>&quot;Allegany&quot;</td><td>&quot;50 to 69&quot;</td><td>&quot;F&quot;</td><td>&quot;White&quot;</td><td>&quot;Not Span/Hispanic&quot;</td><td>&quot;Urgent&quot;</td><td>&quot;Home or Self Care&quot;</td><td>&quot;chronic obstructive pulmonary …</td><td>&quot;diseases and disorders of the …</td><td>&quot;Minor&quot;</td><td>&quot;Minor&quot;</td><td>&quot;Medical&quot;</td><td>&quot;Medicare&quot;</td><td>&quot;Federal/State/Local/VA&quot;</td><td>&quot;None&quot;</td><td>7</td><td>3</td><td>9149.22</td><td>8322.1</td><td>3</td><td>2016</td></tr><tr><td>&quot;Allegany&quot;</td><td>&quot;70 or Older&quot;</td><td>&quot;M&quot;</td><td>&quot;White&quot;</td><td>&quot;Not Span/Hispanic&quot;</td><td>&quot;Urgent&quot;</td><td>&quot;Home or Self Care&quot;</td><td>&quot;other pneumonia&quot;</td><td>&quot;diseases and disorders of the …</td><td>&quot;Moderate&quot;</td><td>&quot;Moderate&quot;</td><td>&quot;Medical&quot;</td><td>&quot;Medicare&quot;</td><td>&quot;Medicaid&quot;</td><td>&quot;None&quot;</td><td>4</td><td>4</td><td>5880.61</td><td>5828.87</td><td>4</td><td>2016</td></tr><tr><td>&quot;Allegany&quot;</td><td>&quot;50 to 69&quot;</td><td>&quot;M&quot;</td><td>&quot;White&quot;</td><td>&quot;Not Span/Hispanic&quot;</td><td>&quot;Elective&quot;</td><td>&quot;Home or Self Care&quot;</td><td>&quot;other pneumonia&quot;</td><td>&quot;diseases and disorders of the …</td><td>&quot;Moderate&quot;</td><td>&quot;Moderate&quot;</td><td>&quot;Medical&quot;</td><td>&quot;Blue Cross/Blue Shield&quot;</td><td>&quot;None&quot;</td><td>&quot;None&quot;</td><td>5</td><td>3</td><td>7019.76</td><td>6604.0</td><td>3</td><td>2016</td></tr></tbody></table></div>"
            ]
          },
          "metadata": {},
          "execution_count": 37
        }
      ]
    },
    {
      "cell_type": "code",
      "source": [
        "np.corrcoef(\n",
        "        data[\"Total Charges\"].to_numpy(),\n",
        "        data[\"Age_Group\"].to_numpy()\n",
        "    )[0, 1]"
      ],
      "metadata": {
        "colab": {
          "base_uri": "https://localhost:8080/"
        },
        "id": "AGu0CANSxYg_",
        "outputId": "bce7186b-e27e-4049-a2b4-d2958108c46f"
      },
      "execution_count": 38,
      "outputs": [
        {
          "output_type": "execute_result",
          "data": {
            "text/plain": [
              "np.float64(0.12601413250641505)"
            ]
          },
          "metadata": {},
          "execution_count": 38
        }
      ]
    },
    {
      "cell_type": "code",
      "source": [
        "data.columns"
      ],
      "metadata": {
        "colab": {
          "base_uri": "https://localhost:8080/"
        },
        "id": "tOihFgoaYyk2",
        "outputId": "21b9687b-8c9d-4cf8-9dbc-f557c2f17808"
      },
      "execution_count": 39,
      "outputs": [
        {
          "output_type": "execute_result",
          "data": {
            "text/plain": [
              "['Hospital County',\n",
              " 'Age Group',\n",
              " 'Gender',\n",
              " 'Race',\n",
              " 'Ethnicity',\n",
              " 'Type of Admission',\n",
              " 'Patient Disposition',\n",
              " 'APR DRG Description',\n",
              " 'APR MDC Description',\n",
              " 'APR Severity of Illness Description',\n",
              " 'APR Risk of Mortality',\n",
              " 'APR Medical Surgical Description',\n",
              " 'Payment Typology 1',\n",
              " 'Payment Typology 2',\n",
              " 'Payment Typology 3',\n",
              " 'Length of Stay',\n",
              " 'Age_Group',\n",
              " 'Total Charges',\n",
              " 'Total Costs',\n",
              " 'Age',\n",
              " 'Year']"
            ]
          },
          "metadata": {},
          "execution_count": 39
        }
      ]
    },
    {
      "cell_type": "code",
      "source": [
        "X = data[['Hospital County',\n",
        "          'Year',\n",
        "          'Age Group',\n",
        "          'Gender',\n",
        "          'Race',\n",
        "          'Ethnicity',\n",
        "          'Type of Admission',\n",
        "          'Patient Disposition',\n",
        "          'APR DRG Description',\n",
        "          'APR MDC Description',\n",
        "          'APR Severity of Illness Description',\n",
        "          'APR Risk of Mortality',\n",
        "          'APR Medical Surgical Description',\n",
        "          'Payment Typology 1',\n",
        "          'Payment Typology 2',\n",
        "          'Payment Typology 3'\n",
        "          ]]\n",
        "y = data[\"Length of Stay\"]"
      ],
      "metadata": {
        "id": "800NYjFLksje"
      },
      "execution_count": 40,
      "outputs": []
    },
    {
      "cell_type": "code",
      "source": [
        "from sklearn.model_selection import train_test_split\n",
        "X_train, X_test, y_train, y_test = train_test_split(X, y, test_size=0.2, random_state=42)"
      ],
      "metadata": {
        "id": "x1RFMjp3lty4"
      },
      "execution_count": 41,
      "outputs": []
    },
    {
      "cell_type": "code",
      "source": [
        "from xgboost import XGBRegressor\n",
        "from sklearn.ensemble import RandomForestClassifier\n",
        "from sklearn.tree import DecisionTreeClassifier\n",
        "from sklearn.metrics import mean_squared_error, r2_score"
      ],
      "metadata": {
        "id": "hCkH292wl6GX"
      },
      "execution_count": 42,
      "outputs": []
    },
    {
      "cell_type": "code",
      "source": [
        "# model = RandomForestClassifier()\n",
        "# model.fit(X_train, y_train)\n",
        "# y_pred = model.predict(X_test)\n",
        "# mse = mean_squared_error(y_test, y_pred)\n",
        "# print(\"Mean Squared Error:\", mse)\n",
        "# r2 = r2_score(y_test, y_pred)\n",
        "# print(\"R-squared:\", r2)"
      ],
      "metadata": {
        "id": "uO1-ZJ_4mFjH"
      },
      "execution_count": 44,
      "outputs": []
    },
    {
      "cell_type": "code",
      "source": [
        "from transformers import AutoTokenizer\n",
        "\n",
        "MODEL_NAME = \"microsoft/BiomedNLP-PubMedBERT-base-uncased-abstract-fulltext\"\n",
        "tok = AutoTokenizer.from_pretrained(MODEL_NAME, use_fast=True)\n"
      ],
      "metadata": {
        "id": "FKv4FZdgmPvl"
      },
      "execution_count": 45,
      "outputs": []
    },
    {
      "cell_type": "code",
      "source": [],
      "metadata": {
        "id": "02psUMmQH0im"
      },
      "execution_count": null,
      "outputs": []
    }
  ]
}